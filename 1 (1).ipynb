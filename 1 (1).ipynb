{
 "cells": [
  {
   "cell_type": "code",
   "execution_count": 1,
   "metadata": {},
   "outputs": [],
   "source": [
    "import numpy as np\n",
    "p = 5000\n",
    "k = 100\n",
    "A = np.diag(np.diag(np.random.rand(p, p)))\n",
    "U = np.random.rand(p, k)\n",
    "V = np.random.rand(k, p)\n",
    "\n",
    "\n",
    "def woodbury(A, U, V): # по формуле с расчетом обратной матрицы через функцию inv\n",
    "    A_inv = np.linalg.inv(A)\n",
    "    return A_inv - A_inv@U@ np.linalg.inv(np.identity(len(V)) + V @ A_inv @ U) @ V @ A_inv\n",
    " \n",
    "    \n",
    "def woodbury_diag(A, U, V): # с подсчетом обратной матрицы вручную\n",
    "    A_inv = A\n",
    "    for i in range(len(A_inv)):\n",
    "        A_inv[i][i] = 1/ A_inv[i][i]\n",
    "    return A_inv - A_inv@ U @ np.linalg.inv(np.identity(len(V)) + V@A_inv@U)@V@A_inv\n",
    " "
   ]
  },
  {
   "cell_type": "code",
   "execution_count": 2,
   "metadata": {},
   "outputs": [
    {
     "name": "stdout",
     "output_type": "stream",
     "text": [
      "Wall time: 26.2 s\n"
     ]
    }
   ],
   "source": [
    "%%time\n",
    "res = woodbury(A, U, V) #с подсчетом по формуле и нахождением обратной матрицы функцией inv"
   ]
  },
  {
   "cell_type": "code",
   "execution_count": 3,
   "metadata": {},
   "outputs": [
    {
     "name": "stdout",
     "output_type": "stream",
     "text": [
      "Wall time: 9.09 s\n"
     ]
    }
   ],
   "source": [
    "%%time\n",
    "res1 = woodbury_diag(A, U, V) #с подсчетом по формуле и нахождением обратной матрицы вручную"
   ]
  },
  {
   "cell_type": "code",
   "execution_count": 4,
   "metadata": {},
   "outputs": [],
   "source": [
    "\"4\"\n",
    "import math\n",
    "def round_to_n (x , n ):\n",
    "    if x == 0:\n",
    "        return x\n",
    "    else :\n",
    "        return round (x , - int ( math . floor ( math . log10 ( abs ( x )))) + ( n - 1))"
   ]
  },
  {
   "cell_type": "code",
   "execution_count": 5,
   "metadata": {},
   "outputs": [
    {
     "name": "stdout",
     "output_type": "stream",
     "text": [
      "1.624\n"
     ]
    }
   ],
   "source": [
    "res = 0\n",
    "for k in range (1 , 3001):\n",
    "    res = round_to_n ( res + 1/ k **2 , 4)\n",
    "print (res)"
   ]
  },
  {
   "cell_type": "code",
   "execution_count": 6,
   "metadata": {},
   "outputs": [
    {
     "data": {
      "text/plain": [
       "' С истинным ответом совпадают только первые 2 значащие цифры, это происходит потому, что начиная с определенного k, 1/k^2\\nстановится слишком мал и в 4х разрядной арифметике просто отбрасывается. Чтобы это исправит, необходимо начать суммирование\\nс самых маленьких чисел, так они смогут внести вклад в сумму и не отбросятся. Для этого воспользуемся обратным суммированием\\n'"
      ]
     },
     "execution_count": 6,
     "metadata": {},
     "output_type": "execute_result"
    }
   ],
   "source": [
    "''' С истинным ответом совпадают только первые 2 значащие цифры, это происходит потому, что начиная с определенного k, 1/k^2\n",
    "становится слишком мал и в 4х разрядной арифметике просто отбрасывается. Чтобы это исправит, необходимо начать суммирование\n",
    "с самых маленьких чисел, так они смогут внести вклад в сумму и не отбросятся. Для этого воспользуемся обратным суммированием\n",
    "'''"
   ]
  },
  {
   "cell_type": "code",
   "execution_count": 7,
   "metadata": {},
   "outputs": [
    {
     "name": "stdout",
     "output_type": "stream",
     "text": [
      "1.645\n"
     ]
    },
    {
     "data": {
      "text/plain": [
       "'Получили совпадение уже 3х значащих цифр '"
      ]
     },
     "execution_count": 7,
     "metadata": {},
     "output_type": "execute_result"
    }
   ],
   "source": [
    "res = 0\n",
    "for k in range (3000 , 0,-1):\n",
    "    res = round_to_n ( res + 1/ k **2 , 4)\n",
    "print (res)\n",
    "'''Получили совпадение уже 3х значащих цифр '''"
   ]
  },
  {
   "cell_type": "code",
   "execution_count": null,
   "metadata": {},
   "outputs": [],
   "source": []
  }
 ],
 "metadata": {
  "kernelspec": {
   "display_name": "Python 3",
   "language": "python",
   "name": "python3"
  },
  "language_info": {
   "codemirror_mode": {
    "name": "ipython",
    "version": 3
   },
   "file_extension": ".py",
   "mimetype": "text/x-python",
   "name": "python",
   "nbconvert_exporter": "python",
   "pygments_lexer": "ipython3",
   "version": "3.8.3"
  }
 },
 "nbformat": 4,
 "nbformat_minor": 4
}
