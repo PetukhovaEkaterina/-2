{
 "cells": [
  {
   "cell_type": "code",
   "execution_count": 10,
   "metadata": {},
   "outputs": [],
   "source": [
    "M1 = 40e4\n",
    "e1 = 0.05e4\n",
    "M2 = 30e4\n",
    "e2 = 0.1e4\n",
    "R = 3.2\n",
    "e3 = 0.01\n",
    "G = 6.67e-11\n",
    "F_true = (G * M1 * M2) / R ** 2 # точное значение силы\n",
    "F_mist = abs(G * M2 * e1 / R ** 2) + abs(G * M1 * e2 / R ** 2) + abs (-2 * G * M1 * M2 / R**3) #максимальная ошибка"
   ]
  },
  {
   "cell_type": "code",
   "execution_count": 11,
   "metadata": {},
   "outputs": [],
   "source": [
    "from numpy.random import normal # создаем массив\n",
    "array = []\n",
    "for i in range (100000):\n",
    "    m1 = normal(M1, e1)\n",
    "    m2 = normal(M2, e2)\n",
    "    r = normal(R, e3)\n",
    "    F = (G * m1 * m2) / r**2\n",
    "    array.append(F)"
   ]
  },
  {
   "cell_type": "code",
   "execution_count": 16,
   "metadata": {},
   "outputs": [
    {
     "data": {
      "image/png": "[encoded data removed]",
      "text/plain": [
       "<Figure size 432x288 with 1 Axes>"
      ]
     },
     "metadata": {
      "needs_background": "light"
     },
     "output_type": "display_data"
    }
   ],
   "source": [
    "import numpy as np #строим гистограмму\n",
    "import matplotlib.pyplot as plt\n",
    "from scipy.stats import norm\n",
    "import math\n",
    "plt.hist(array, bins = 20, density = True)\n",
    "F_disp = abs(G * M2 * e1 / R ** 2)**2 + abs(G * M1 * e2 / R ** 2)**2 + abs (-2 * G * M1 * M2 / R**3)**2# дисперсия случайной величины F\n",
    "mu = F_true\n",
    "disp = F_disp\n",
    "sigma = math.sqrt(disp)"
   ]
  },
  {
   "cell_type": "code",
   "execution_count": 20,
   "metadata": {},
   "outputs": [],
   "source": [
    "from numpy.random import normal\n",
    "array1 = []\n",
    "e11 = 2e4\n",
    "e22 = 10e4\n",
    "e33 = 1\n",
    "for i in range (100000):\n",
    "    m1 = normal(M1, e11)\n",
    "    m2 = normal(M2, e22)\n",
    "    r = normal(R, e22)\n",
    "    F = (G * m1 * m2) / r**2\n",
    "    array1.append(F)"
   ]
  },
  {
   "cell_type": "code",
   "execution_count": null,
   "metadata": {},
   "outputs": [],
   "source": []
  }
 ],
 "metadata": {
  "kernelspec": {
   "display_name": "Python 3",
   "language": "python",
   "name": "python3"
  },
  "language_info": {
   "codemirror_mode": {
    "name": "ipython",
    "version": 3
   },
   "file_extension": ".py",
   "mimetype": "text/x-python",
   "name": "python",
   "nbconvert_exporter": "python",
   "pygments_lexer": "ipython3",
   "version": "3.8.3"
  }
 },
 "nbformat": 4,
 "nbformat_minor": 4
}
