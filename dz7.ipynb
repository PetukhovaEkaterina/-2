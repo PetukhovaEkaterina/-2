{
 "cells": [
  {
   "cell_type": "code",
   "execution_count": 23,
   "metadata": {},
   "outputs": [],
   "source": [
    "import numpy as np\n",
    "def implicit_euler_solve(u0, T, dt):\n",
    "    \"\"\"Решает $du/dt = \\lambda u$ на $0 < t < T$ с $u(t=0) = u0$ при помощи неявного метода Эйлера.\"\"\"\n",
    "    num_steps = int(T/dt)\n",
    "    tt = np.arange(num_steps+1)*dt\n",
    "    y = np.zeros(num_steps+1)\n",
    "    y[0] = u0\n",
    "    for k in range(num_steps):\n",
    "        y[k+1] = (y[k]+(y[k]**2+4*dt)**(1/2))/2\n",
    "    return tt, y"
   ]
  },
  {
   "cell_type": "code",
   "execution_count": 25,
   "metadata": {},
   "outputs": [
    {
     "data": {
      "text/plain": [
       "[<matplotlib.lines.Line2D at 0x5a60088>]"
      ]
     },
     "execution_count": 25,
     "metadata": {},
     "output_type": "execute_result"
    },
    {
     "data": {
      "image/png": "[encoded data removed]",
      "text/plain": [
       "<Figure size 432x288 with 1 Axes>"
      ]
     },
     "metadata": {
      "needs_background": "light"
     },
     "output_type": "display_data"
    }
   ],
   "source": [
    "import matplotlib.pyplot as plt\n",
    "tt, y = implicit_euler_solve(u0=1, T=5, dt=0.1)\n",
    "plt.plot(tt, y, 'o--', label='numeric solution')\n",
    "plt.plot(tt, (2*tt+1)**(1/2), 'o--', label='numeric solution')"
   ]
  },
  {
   "cell_type": "code",
   "execution_count": null,
   "metadata": {},
   "outputs": [],
   "source": []
  }
 ],
 "metadata": {
  "kernelspec": {
   "display_name": "Python 3",
   "language": "python",
   "name": "python3"
  },
  "language_info": {
   "codemirror_mode": {
    "name": "ipython",
    "version": 3
   },
   "file_extension": ".py",
   "mimetype": "text/x-python",
   "name": "python",
   "nbconvert_exporter": "python",
   "pygments_lexer": "ipython3",
   "version": "3.8.3"
  }
 },
 "nbformat": 4,
 "nbformat_minor": 4
}
