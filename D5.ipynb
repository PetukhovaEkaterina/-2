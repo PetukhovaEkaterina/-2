{
 "cells": [
  {
   "cell_type": "code",
   "execution_count": 1,
   "metadata": {},
   "outputs": [],
   "source": [
    "import numpy as np\n",
    "p = 5000\n",
    "k = 100\n",
    "A = np.diag(np.diag(np.random.rand(p, p)))\n",
    "U = np.random.rand(p, k)\n",
    "V = np.random.rand(k, p)\n",
    "def woodbury(A, U, V): # с расчетом обратной матрицы через функцию inv\n",
    "    A_inv = np.linalg.inv(A)\n",
    "    return A_inv - A_inv @ U @ np.linalg.inv(np.eye(k, dtype=float) + V @ A_inv @ U) @ V @ A_inv\n",
    " \n",
    "def woodbury_diag(A, U, V): # с подсчетом обратной матрицы руками\n",
    "    A_inv = A\n",
    "    for i in range(p):\n",
    "        A_inv[i][i] = 1/ A_inv[i][i]\n",
    "    return A_inv - A_inv@ U @ np.linalg.inv(np.eye(k, dtype=float) + V@A_inv@U)@V@A_inv"
   ]
  },
  {
   "cell_type": "code",
   "execution_count": 2,
   "metadata": {},
   "outputs": [
    {
     "name": "stdout",
     "output_type": "stream",
     "text": [
      "Wall time: 16.8 s\n"
     ]
    }
   ],
   "source": [
    "%%time\n",
    "res = woodbury(A, U, V) #с подсчетом по формуле и нахождением обратной матрицы функцией inv"
   ]
  },
  {
   "cell_type": "code",
   "execution_count": 3,
   "metadata": {},
   "outputs": [
    {
     "name": "stdout",
     "output_type": "stream",
     "text": [
      "Wall time: 7.14 s\n"
     ]
    }
   ],
   "source": [
    "%%time\n",
    "res1 = woodbury_diag(A, U, V) #с подсчетом по формуле и нахождением обратной матрицы вручную"
   ]
  },
  {
   "cell_type": "code",
   "execution_count": 4,
   "metadata": {},
   "outputs": [
    {
     "name": "stdout",
     "output_type": "stream",
     "text": [
      "Wall time: 371 ms\n"
     ]
    }
   ],
   "source": [
    "%%time\n",
    "res2 = np.linalg.inv(A + U @ V) #прямое вычисление без формулы"
   ]
  },
  {
   "cell_type": "code",
   "execution_count": 5,
   "metadata": {},
   "outputs": [
    {
     "data": {
      "text/plain": [
       "array([[ 3.91801289, -0.26690387,  0.03874405, ...,  0.26743627,\n",
       "        -0.06401922, -0.12854226],\n",
       "       [ 1.1603082 ,  5.84071588, -0.24505903, ..., -0.28953496,\n",
       "        -0.02296774,  0.23902696],\n",
       "       [-0.21422269,  0.01463214,  1.90377463, ...,  0.05901213,\n",
       "         0.05305262, -0.03595452],\n",
       "       ...,\n",
       "       [ 0.23712137,  0.07465879, -0.02183538, ...,  1.45356939,\n",
       "         0.03536229,  0.03372094],\n",
       "       [ 0.15609431,  0.07408414, -0.02196862, ..., -0.03690182,\n",
       "         1.79535835,  0.00905256],\n",
       "       [-0.52992824, -0.16331226,  0.0724565 , ...,  0.10135605,\n",
       "        -0.02575767,  1.34314471]])"
      ]
     },
     "execution_count": 5,
     "metadata": {},
     "output_type": "execute_result"
    }
   ],
   "source": [
    "res-res2"
   ]
  },
  {
   "cell_type": "code",
   "execution_count": null,
   "metadata": {},
   "outputs": [],
   "source": []
  }
 ],
 "metadata": {
  "kernelspec": {
   "display_name": "Python 3",
   "language": "python",
   "name": "python3"
  },
  "language_info": {
   "codemirror_mode": {
    "name": "ipython",
    "version": 3
   },
   "file_extension": ".py",
   "mimetype": "text/x-python",
   "name": "python",
   "nbconvert_exporter": "python",
   "pygments_lexer": "ipython3",
   "version": "3.8.3"
  }
 },
 "nbformat": 4,
 "nbformat_minor": 4
}
